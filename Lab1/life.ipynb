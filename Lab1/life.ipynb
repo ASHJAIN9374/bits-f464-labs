{
  "cells": [
    {
      "cell_type": "markdown",
      "metadata": {},
      "source": [
        "# What is  Code Vectorization?\n",
        "Vectorized code refers to operations that are performed on multiple components of a vector at the same time instead of doing it iteratively(which is very slow when the problem size grows). Of course it does not mean it is easy or straightforward, but at least it does not necessitate totally rethinking your problem. Still, it may require some experience to see where code can be vectorized. Let's illustrate this through a simple example where we want to sum up two lists of integers. One simple way using pure Python is:"
      ]
    },
    {
      "cell_type": "code",
      "execution_count": 85,
      "metadata": {
        "colab": {
          "base_uri": "https://localhost:8080/"
        },
        "id": "50szwB_4FZ_B",
        "outputId": "ab73a521-a9e8-4904-c50e-01bb83574e19"
      },
      "outputs": [
        {
          "name": "stdout",
          "output_type": "stream",
          "text": [
            "For loop time: 1.4252934455871582\n"
          ]
        }
      ],
      "source": [
        "import time\n",
        "\n",
        "array1 = list(range(1, 10000000))\n",
        "array2 = list(range(1, 10000000))\n",
        "start = time.time()\n",
        "for i in range(len(array1)):\n",
        "  array1[i] = array1[i] + array2[i]\n",
        "\n",
        "end = time.time()\n",
        "\n",
        "print(\"For loop time:\", end - start)"
      ]
    },
    {
      "cell_type": "markdown",
      "metadata": {},
      "source": [
        "This first naive solution can be vectorized very easily using numpy:"
      ]
    },
    {
      "cell_type": "code",
      "execution_count": 86,
      "metadata": {
        "colab": {
          "base_uri": "https://localhost:8080/"
        },
        "id": "t0tmwIQuFgLM",
        "outputId": "83d7b8ee-727c-4429-9dd0-60296dd21948"
      },
      "outputs": [
        {
          "name": "stdout",
          "output_type": "stream",
          "text": [
            "Vectorization time: 0.012635469436645508\n"
          ]
        }
      ],
      "source": [
        "import numpy as np\n",
        "\n",
        "array1 = np.array(list(range(1, 10000000)))\n",
        "array2 = np.array(list(range(1, 10000000)))\n",
        "\n",
        "start = time.time()\n",
        "result = np.add(array1, array2)\n",
        "end = time.time()\n",
        "\n",
        "print(\"Vectorization time:\", end - start)"
      ]
    },
    {
      "cell_type": "markdown",
      "metadata": {},
      "source": [
        "## Helper Function(s) (Can Safely skip!)"
      ]
    },
    {
      "cell_type": "code",
      "execution_count": 87,
      "metadata": {},
      "outputs": [],
      "source": [
        "def timeit(stmt, globals):\n",
        "    '''\n",
        "    Parameters\n",
        "    ----------\n",
        "    stmt - function to run\n",
        "    globals - dictionary of current global variables\n",
        "\n",
        "    Returns\n",
        "    -------\n",
        "    Nothing! Just prints relevant information about run-times.\n",
        "    '''\n",
        "    import timeit as _timeit\n",
        "    import numpy as np\n",
        "\n",
        "    # Rough approximation of a single run\n",
        "    trial = _timeit.timeit(stmt, globals=globals, number=1)\n",
        "\n",
        "    # Maximum duration\n",
        "    duration = 1.0\n",
        "\n",
        "    # Number of repeat\n",
        "    repeat = 5\n",
        "\n",
        "    # Compute rounded number of trials\n",
        "    number = max(1,int(10**np.floor(np.log(duration/trial/repeat)/np.log(10))))\n",
        "\n",
        "    # Only report best run\n",
        "    best = min(_timeit.repeat(stmt, globals=globals, number=number, repeat=repeat))\n",
        "\n",
        "    units = {\"usec\": 1, \"msec\": 1e3, \"sec\": 1e6}\n",
        "    precision = 3\n",
        "    usec = best * 1e6 / number\n",
        "    if usec < 1000:\n",
        "        print(\"%d loops, best of %d: %.*g usec per loop\" % (number, repeat,\n",
        "                                                            precision, usec))\n",
        "    else:\n",
        "        msec = usec / 1000\n",
        "        if msec < 1000:\n",
        "            print(\"%d loops, best of %d: %.*g msec per loop\" % (number, repeat,\n",
        "                                                                precision, msec))\n",
        "        else:\n",
        "            sec = msec / 1000\n",
        "            print(\"%d loops, best of %d: %.*g sec per loop\" % (number, repeat,\n",
        "                                                                precision, sec))"
      ]
    },
    {
      "cell_type": "markdown",
      "metadata": {
        "id": "ea7MGrFFTFny"
      },
      "source": [
        "# Uniform Vectorization\n",
        "Uniform vectorization is the simplest form of vectorization where all the elements share the same computation at every time step with no specific processing for any element. One stereotypical case is the Game of Life that has been invented by John Conway.\n",
        "\n",
        "The universe of the Game of Life is an infinite two-dimensional orthogonal grid of square cells, each of which is in one of two possible states, live or dead. Every cell interacts with its eight neighbours, which are the cells that are directly horizontally, vertically, or diagonally adjacent. At each step in time, the following transitions occur:\n",
        "\n",
        "- Any live cell with fewer than two live neighbours dies, as if by needs caused by underpopulation.\n",
        "- Any live cell with more than three live neighbours dies, as if by overcrowding.\n",
        "- Any live cell with two or three live neighbours lives, unchanged, to the next generation.\n",
        "- Any dead cell with exactly three live neighbours becomes a live cell.\n"
      ]
    },
    {
      "cell_type": "markdown",
      "metadata": {
        "id": "xJgOlrwAVEHs"
      },
      "source": [
        "## Iterative Method:Python\n",
        "In pure Python, we can code the Game of Life using a list of lists representing the board where cells are supposed to evolve. Such a board will be equipped with border of 0 that allows to accelerate things a bit by avoiding having specific tests for borders when counting the number of neighbours."
      ]
    },
    {
      "cell_type": "code",
      "execution_count": 88,
      "metadata": {
        "id": "WQ-liBUXZ5RJ"
      },
      "outputs": [],
      "source": [
        "import matplotlib.pyplot as plt\n",
        "from matplotlib.animation import FuncAnimation\n",
        "from matplotlib.patches import Rectangle"
      ]
    },
    {
      "cell_type": "markdown",
      "metadata": {},
      "source": [
        "Taking the border into account, counting neighbours then is straightforward:"
      ]
    },
    {
      "cell_type": "code",
      "execution_count": 89,
      "metadata": {
        "id": "wimcPQn2THh_"
      },
      "outputs": [],
      "source": [
        "def compute_neighbours(Z: list) -> list:\n",
        "  \"\"\"\n",
        "  Calculates the number of neighbours for each cell.\n",
        "\n",
        "  Parameters\n",
        "  ----------\n",
        "  Z : list\n",
        "      The array that represents the board\n",
        "  \"\"\"\n",
        "  shape = len(Z), len(Z[0])\n",
        "  N = [[0, ]*(shape[0]) for i in range(shape[1])]\n",
        "  for x in range(1, shape[0]-1):\n",
        "    for y in range(1, shape[1]-1):\n",
        "      N[x][y] = (Z[x-1][y-1] + Z[x][y-1] + Z[x+1][y-1] + \n",
        "                Z[x-1][y] + Z[x+1][y] + Z[x-1][y+1] + \n",
        "                Z[x][y+1]+Z[x+1][y+1])\n",
        "  return N"
      ]
    },
    {
      "cell_type": "markdown",
      "metadata": {},
      "source": [
        "To iterate one step in time, we then simply count the number of neighbours for each internal cell and we update the whole board according to the four aforementioned rules:"
      ]
    },
    {
      "cell_type": "code",
      "execution_count": 90,
      "metadata": {
        "id": "i429euT0VB_u"
      },
      "outputs": [],
      "source": [
        "def iterate_py(Z: list) -> list:\n",
        "  \"\"\"\n",
        "  Count the number of neighbours for each internal cell and we update the whole board according to the four aforementioned rules.\n",
        "\n",
        "  Parameters\n",
        "  ----------\n",
        "  Z : list\n",
        "      The array that represents the board\n",
        "  \"\"\"\n",
        "  shape = len(Z), len(Z[0])\n",
        "\n",
        "  N = compute_neighbours(Z)\n",
        "  for x in range(1, shape[0]-1):\n",
        "    for y in range(1, shape[1]-1):\n",
        "      if Z[x][y] == 1 and (N[x][y] < 2 or N[x][y] > 3): ## N[x][y]<2 refers to the underpopulation and N[x][y]>3 refers to the overcrowding rule\n",
        "        Z[x][y] = 0 # Cell at (x,y) dies\n",
        "      elif Z[x][y] == 0 and N[x][y] == 3: # Dead cell with 3 neighbours\n",
        "        Z[x][y] = 1 # Becomes alive\n",
        "  return Z"
      ]
    },
    {
      "cell_type": "code",
      "execution_count": 91,
      "metadata": {
        "colab": {
          "base_uri": "https://localhost:8080/",
          "height": 365
        },
        "id": "RsXMMT5pZaCC",
        "outputId": "d2ee89b7-7287-4926-899e-e49d46bf6b63"
      },
      "outputs": [
        {
          "data": {
            "image/png": "[encoded data removed]",
            "text/plain": [
              "<Figure size 1200x300 with 5 Axes>"
            ]
          },
          "metadata": {},
          "output_type": "display_data"
        }
      ],
      "source": [
        "# Initialising the board of cells\n",
        "Z = [[0, 0, 0, 0, 0, 0],\n",
        "     [0, 0, 0, 1, 0, 0],\n",
        "     [0, 1, 0, 1, 0, 0],\n",
        "     [0, 0, 1, 1, 0, 0],\n",
        "     [0, 0, 0, 0, 0, 0],\n",
        "     [0, 0, 0, 0, 0, 0]]\n",
        "\n",
        "figure = plt.figure(figsize=(12, 3))\n",
        "\n",
        "labels = (\"Initial state\",\n",
        "              \"Iteration 1\", \"Iteration 2\",\n",
        "              \"Iteration 3\", \"Iteration 4\")\n",
        "\n",
        "for i in range(5):\n",
        "  ax = plt.subplot(1, 5, i+1, aspect=1, frameon=False)\n",
        "\n",
        "  for x in range(6):\n",
        "    for y in range(6):\n",
        "      if Z[x][y] == 1:\n",
        "        facecolor = 'black' # Black represents a cell being alive\n",
        "      else:\n",
        "        facecolor = 'white' # White represents a cell being dead\n",
        "      rect = Rectangle((x, 5-y), width=0.9, height=0.9,\n",
        "                                 linewidth=1.0, edgecolor='black',\n",
        "                                 facecolor=facecolor)\n",
        "      ax.add_patch(rect)\n",
        "  ax.set_xlim(0, 6.1)\n",
        "  ax.set_ylim(0, 6.1)\n",
        "  ax.set_xticks([])\n",
        "  ax.set_yticks([])\n",
        "  ax.set_xlabel(labels[i])\n",
        "\n",
        "  for tick in ax.xaxis.get_major_ticks():\n",
        "    tick.tick1On = tick.tick2On = False\n",
        "  for tick in ax.yaxis.get_major_ticks():\n",
        "    tick.tick1On = tick.tick2On = False\n",
        "  # Calling our iterate function\n",
        "  iterate_py(Z)\n",
        "\n",
        "plt.tight_layout()\n",
        "plt.show()"
      ]
    },
    {
      "cell_type": "markdown",
      "metadata": {
        "id": "1mQf9yLTaU9k"
      },
      "source": [
        "## Vectorized Method: NumPy\n",
        "Starting from the Python version, the vectorization of the Game of Life requires two parts, one responsible for counting the neighbours and one responsible for enforcing the rules. Neighbour-counting is relatively easy if we remember we took care of adding a null border around the arena. By considering partial views of the arena we can actually access neighbours quite intuitively as illustrated below for the one-dimensional case:\n",
        "\n",
        "![Screenshot 2024-01-27 191859.png](data:image/png;base64,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)"
      ]
    },
    {
      "cell_type": "markdown",
      "metadata": {},
      "source": [
        "Going to the two dimensional case requires just a bit of arithmetic to make sure to consider all the eight neighbours. For the rule enforcement, we can factorize the rules into cells that will survive (stay at 1) and cells that will give birth. For doing this, we can take advantage of Numpy boolean capability and write quite naturally:"
      ]
    },
    {
      "cell_type": "code",
      "execution_count": 92,
      "metadata": {
        "id": "1WXoJ6UjaZxs"
      },
      "outputs": [],
      "source": [
        "def iterate_numpy(Z):\n",
        "  N = (Z[0:-2, 0:-2] + Z[0:-2, 1:-1] + Z[0:-2, 2:] +\n",
        "         Z[1:-1, 0:-2]                 + Z[1:-1, 2:] +\n",
        "         Z[2:  , 0:-2] + Z[2:  , 1:-1] + Z[2:  , 2:])\n",
        "  birth = (N == 3) & (Z[1:-1, 1:-1] == 0)\n",
        "  survive = ((N == 2) | (N == 3)) & (Z[1:-1, 1:-1] == 1)\n",
        "  Z[...] = 0\n",
        "  Z[1:-1, 1:-1][birth | survive] = 1\n",
        "\n",
        "  return Z"
      ]
    },
    {
      "cell_type": "code",
      "execution_count": 93,
      "metadata": {
        "colab": {
          "base_uri": "https://localhost:8080/",
          "height": 365
        },
        "id": "heihDU8ea8_k",
        "outputId": "7a159b94-2f80-4d6f-dfca-958c941fbd43"
      },
      "outputs": [
        {
          "data": {
            "image/png": "[encoded data removed]",
            "text/plain": [
              "<Figure size 1200x300 with 5 Axes>"
            ]
          },
          "metadata": {},
          "output_type": "display_data"
        }
      ],
      "source": [
        "Z2 = [[0, 0, 0, 0, 0, 0],\n",
        "     [0, 0, 0, 1, 0, 0],\n",
        "     [0, 1, 0, 1, 0, 0],\n",
        "     [0, 0, 1, 1, 0, 0],\n",
        "     [0, 0, 0, 0, 0, 0],\n",
        "     [0, 0, 0, 0, 0, 0]]\n",
        "Z2 = np.array(Z2)\n",
        "figure = plt.figure(figsize=(12, 3))\n",
        "\n",
        "labels = (\"Initial state\",\n",
        "              \"iteration 1\", \"iteration 2\",\n",
        "              \"iteration 3\", \"iteration 4\")\n",
        "\n",
        "for i in range(5):\n",
        "  ax = plt.subplot(1, 5, i+1, aspect=1, frameon=False)\n",
        "\n",
        "  for x in range(6):\n",
        "    for y in range(6):\n",
        "      if Z2[x][y] == 1:\n",
        "        facecolor = 'black'\n",
        "      else:\n",
        "        facecolor = 'white'\n",
        "      rect = Rectangle((x, 5-y), width=0.9, height=0.9,\n",
        "                                 linewidth=1.0, edgecolor='black',\n",
        "                                 facecolor=facecolor)\n",
        "      ax.add_patch(rect)\n",
        "  ax.set_xlim(0, 6.1)\n",
        "  ax.set_ylim(0, 6.1)\n",
        "  ax.set_xticks([])\n",
        "  ax.set_yticks([])\n",
        "  ax.set_xlabel(labels[i])\n",
        "\n",
        "  for tick in ax.xaxis.get_major_ticks():\n",
        "    tick.tick1On = tick.tick2On = False\n",
        "  for tick in ax.yaxis.get_major_ticks():\n",
        "    tick.tick1On = tick.tick2On = False\n",
        "  iterate_numpy(Z2)\n",
        "\n",
        "plt.tight_layout()\n",
        "# plt.savefig(\"glider.png\")\n",
        "plt.show()"
      ]
    },
    {
      "cell_type": "markdown",
      "metadata": {},
      "source": [
        "### Why is Vectorization Better?\n"
      ]
    },
    {
      "cell_type": "code",
      "execution_count": 94,
      "metadata": {},
      "outputs": [
        {
          "name": "stdout",
          "output_type": "stream",
          "text": [
            "1 loops, best of 5: 186 msec per loop\n",
            "100 loops, best of 5: 612 usec per loop\n"
          ]
        }
      ],
      "source": [
        "Z = np.random.randint(0, 2, (300, 300))\n",
        "Z1 = Z.copy()\n",
        "timeit('iterate_py(Z)', globals())\n",
        "timeit('iterate_numpy(Z1)', globals())"
      ]
    },
    {
      "cell_type": "markdown",
      "metadata": {},
      "source": [
        "As you can see, simply by taking advantage of NumPy Vectorization, we were able to obtain a speedup of almost 300x !!!\n",
        "\n",
        "As a fun little side project you can try to use FuncAnimation library to plot the Game of Life and watch the cells give birth and die for various initialisations of the board. It truly is remarkable!"
      ]
    },
    {
      "cell_type": "markdown",
      "metadata": {},
      "source": [
        "## Thank you. <br>\n",
        "Code for this notebook is borrowed and edited from [here](https://www.labri.fr/perso/nrougier/from-python-to-numpy/). Feel free to check the book out to explore vectorization in different contexts and examples. This small demo was made by [Aditya Kulkarni](https://github.com/AdiKul1294). Feel free to take a look at John Conway's Game of Life [here](https://web.archive.org/web/20090603015231/http://ddi.cs.uni-potsdam.de/HyFISCH/Produzieren/lis_projekt/proj_gamelife/ConwayScientificAmerican.htm).<br>\n",
        "Copyright (2017) Nicolas P. Rougier - BSD license"
      ]
    }
  ],
  "metadata": {
    "colab": {
      "provenance": []
    },
    "kernelspec": {
      "display_name": "Python 3",
      "name": "python3"
    },
    "language_info": {
      "codemirror_mode": {
        "name": "ipython",
        "version": 3
      },
      "file_extension": ".py",
      "mimetype": "text/x-python",
      "name": "python",
      "nbconvert_exporter": "python",
      "pygments_lexer": "ipython3",
      "version": "3.10.4"
    }
  },
  "nbformat": 4,
  "nbformat_minor": 0
}
