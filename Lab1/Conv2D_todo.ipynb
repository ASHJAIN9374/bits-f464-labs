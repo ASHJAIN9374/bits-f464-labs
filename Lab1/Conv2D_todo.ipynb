{
  "cells": [
    {
      "cell_type": "markdown",
      "metadata": {
        "id": "uzCqAuesqzoq"
      },
      "source": [
        "# Take-home problem Lab1, implementing a 2D convolution"
      ]
    },
    {
      "cell_type": "markdown",
      "metadata": {
        "id": "xap9bu44rEkZ"
      },
      "source": [
        "I believe anyone can find a large number of resources for this specific topic, please go through any of them to get a hang of the actual theory. I definitely recommend this [TDS](https://towardsdatascience.com/intuitively-understanding-convolutions-for-deep-learning-1f6f42faee1#:~:text=The%202D%20convolution%20is%20a,into%20a%20single%20output%20pixel.) blog post. But anyways I'm attachin a small gif for your reference, with the actual equations! Happy coding."
      ]
    },
    {
      "cell_type": "markdown",
      "metadata": {
        "id": "yWQ08qG8r0G_"
      },
      "source": [
        "![conv2d-gif](https://miro.medium.com/v2/resize:fit:1400/format:webp/1*j-srXhSUW5s1Ysp86J6GHA.gif)"
      ]
    },
    {
      "cell_type": "markdown",
      "metadata": {
        "id": "rdE0EiULsJbG"
      },
      "source": [
        "$$H_{out} = \\frac{H_{in} - H_{filter}}{S} + 1$$ <br>\n",
        "$$W_{out} = \\frac{W_{in} - W_{filter}}{S} + 1$$ <br>\n",
        "Where H, W stand for the height and width of the image and $H_{filter}$ or $W_{filter}$ denotes the filter size (or kernel size) and S is the stride. We have also added a batch_size dimension as you will see. **Note :  we are assuming there is no padding so don't worry about that.**"
      ]
    },
    {
      "cell_type": "code",
      "execution_count": null,
      "metadata": {
        "id": "e8CaHoF7vHaI"
      },
      "outputs": [],
      "source": [
        "import numpy as np\n",
        "import pickle\n",
        "import time\n",
        "# Note : for all the following cells first you'll have to assign a few variables\n",
        "# the number of appropriate lines does not include that! so dw if you overshoot\n",
        "# them, the small documentation can be helpful in assigning names to variables"
      ]
    },
    {
      "cell_type": "markdown",
      "metadata": {
        "id": "gE1NpWpIu8jO"
      },
      "source": [
        "## Helper Function(s)"
      ]
    },
    {
      "cell_type": "code",
      "execution_count": null,
      "metadata": {
        "id": "BkJE_aGZwMUq"
      },
      "outputs": [],
      "source": [
        "np.random.seed(123) # Don't change this\n",
        "with open('weights/out1.pkl', 'rb') as handle:\n",
        "  out1 = pickle.load(handle)\n",
        "with open('weights/out2.pkl', 'rb') as handle:\n",
        "  out2 = pickle.load(handle)\n",
        "with open('weights/out3.pkl', 'rb') as handle:\n",
        "  out3 = pickle.load(handle)\n",
        "x = np.random.randint(0, 255, (32, 3, 28, 28))\n",
        "w = np.random.randint(-1, 1, (64, 3, 3, 3))\n",
        "b = np.random.randint(-1, 1, (64, 1))\n",
        "conv_param = {}\n",
        "conv_param['stride'] = 1\n",
        "input = {}\n",
        "input[\"x\"] = x\n",
        "input[\"w\"] = w\n",
        "input[\"b\"] = b\n",
        "input[\"conv_param\"] = conv_param"
      ]
    },
    {
      "cell_type": "code",
      "execution_count": null,
      "metadata": {
        "id": "67OFyQhpvO4M"
      },
      "outputs": [],
      "source": [
        "class bcolors:\n",
        "  OKGREEN = '\\033[92m'\n",
        "  WARNING = '\\033[93m'\n",
        "  ENDC = '\\033[0m'\n",
        "\n",
        "def function_checker(fn_name, input, output):\n",
        "  '''\n",
        "    Parameters\n",
        "    ----------\n",
        "    stmt - function to run\n",
        "    input - predefined input\n",
        "    output - same\n",
        "\n",
        "    Returns\n",
        "    -------\n",
        "    Nothing! Just decides your extra credit xD.\n",
        "    '''\n",
        "  if fn_name == 'conv_forward_naive':\n",
        "    assert (conv_forward_naive(input[\"x\"], input[\"w\"], input[\"b\"], input[\"conv_param\"]) == output).all(), f\"{bcolors.WARNING}Wrong implementation!{bcolors.ENDC}\"\n",
        "    print(f\"{bcolors.OKGREEN}Correct implementation.{bcolors.ENDC}\")\n",
        "\n",
        "  elif fn_name == 'stride_input':\n",
        "    assert (stride_input(input[\"x\"], input[\"w\"], input[\"conv_param\"]) == output).all(), f\"{bcolors.WARNING}Wrong implementation!{bcolors.ENDC}\"\n",
        "    print(f\"{bcolors.OKGREEN}Correct implementation.{bcolors.ENDC}\")\n",
        "\n",
        "  elif fn_name == 'conv_forward_vectorized':\n",
        "    assert (conv_forward_vectorized(input[\"x\"], input[\"w\"], input[\"b\"], input[\"conv_param\"]) == output).all(), f\"{bcolors.WARNING}Wrong implementation!{bcolors.ENDC}\"\n",
        "    assert (out1 == out3).all(), f\"{bcolors.WARNING}Your outputs (naive and vectorized) don't match!{bcolors.ENDC}\"\n",
        "    print(f\"{bcolors.OKGREEN}Correct implementation.{bcolors.ENDC}\")"
      ]
    },
    {
      "cell_type": "code",
      "execution_count": null,
      "metadata": {
        "id": "jDr3f8ow6q2_"
      },
      "outputs": [],
      "source": [
        "def timeit(stmt, globals):\n",
        "    '''\n",
        "    Parameters\n",
        "    ----------\n",
        "    stmt - function to run\n",
        "    globals - dictionary of current global variables\n",
        "\n",
        "    Returns\n",
        "    -------\n",
        "    Nothing! Just prints relevant information about run-times.\n",
        "    '''\n",
        "    import timeit as _timeit\n",
        "    import numpy as np\n",
        "\n",
        "    # Rough approximation of a single run\n",
        "    trial = _timeit.timeit(stmt, globals=globals, number=1)\n",
        "\n",
        "    # Maximum duration\n",
        "    duration = 1.0\n",
        "\n",
        "    # Number of repeat\n",
        "    repeat = 3\n",
        "\n",
        "    # Compute rounded number of trials\n",
        "    number = max(1,int(10**np.floor(np.log(duration/trial/repeat)/np.log(10))))\n",
        "\n",
        "    # Only report best run\n",
        "    best = min(_timeit.repeat(stmt, globals=globals, number=number, repeat=repeat))\n",
        "\n",
        "    units = {\"usec\": 1, \"msec\": 1e3, \"sec\": 1e6}\n",
        "    precision = 3\n",
        "    usec = best * 1e6 / number\n",
        "    if usec < 1000:\n",
        "        print(\"%d loops, best of %d: %.*g usec per loop\" % (number, repeat,\n",
        "                                                            precision, usec))\n",
        "    else:\n",
        "        msec = usec / 1000\n",
        "        if msec < 1000:\n",
        "            print(\"%d loops, best of %d: %.*g msec per loop\" % (number, repeat,\n",
        "                                                                precision, msec))\n",
        "        else:\n",
        "            sec = msec / 1000\n",
        "            print(\"%d loops, best of %d: %.*g sec per loop\" % (number, repeat,\n",
        "                                                               precision, sec))"
      ]
    },
    {
      "cell_type": "markdown",
      "metadata": {
        "id": "buwnAtmmuvIS"
      },
      "source": [
        "## Naïve for-loop implementation"
      ]
    },
    {
      "cell_type": "code",
      "execution_count": null,
      "metadata": {
        "id": "0MtpKSdYqwO6"
      },
      "outputs": [],
      "source": [
        "def conv_forward_naive(x, w, b, conv_param):\n",
        "    \"\"\"\n",
        "    A naive implementation of the forward pass for a convolutional layer.\n",
        "\n",
        "    The input consists of N data points, each with C channels, height H and\n",
        "    width W. We convolve each input with F different filters, where each filter\n",
        "    spans all C channels and has height HH and width HH.\n",
        "\n",
        "    Input:\n",
        "    - x: Input data of shape (N, C, H, W)\n",
        "    - w: Filter weights of shape (F, C, HH, WW)\n",
        "    - b: Biases, of shape (F,)\n",
        "    - conv_param: A dictionary with the following keys:\n",
        "      - 'stride': The number of pixels between adjacent receptive fields in the\n",
        "        horizontal and vertical directions.\n",
        "\n",
        "    Returns:\n",
        "    - out: Output data, of shape (N, F, H', W') where H' and W' are given by\n",
        "      H' = 1 + (H - HH) / stride\n",
        "      W' = 1 + (W - WW) / stride\n",
        "    \"\"\"\n",
        "    out = None\n",
        "    ###########################################################################\n",
        "    # TODO: Implement the convolutional forward pass. (our main solution has  #\n",
        "    # 4 for loops apart from the assignment statements for various variables) #\n",
        "    ###########################################################################\n",
        "\n",
        "    ###########################################################################\n",
        "    #                             END OF YOUR CODE                            #\n",
        "    ###########################################################################\n",
        "    return out"
      ]
    },
    {
      "cell_type": "code",
      "execution_count": null,
      "metadata": {
        "id": "-1CzUMPL5_ly"
      },
      "outputs": [],
      "source": [
        "start = time.time()\n",
        "conv_forward_naive(x, w, b, conv_param)\n",
        "print(f\"Naive implementation took : {time.time() - start}s\")\n",
        "function_checker('conv_forward_naive', input, out1)"
      ]
    },
    {
      "cell_type": "markdown",
      "metadata": {
        "id": "QJ1kGBfiut27"
      },
      "source": [
        "## Vectorized implementation\n",
        "\n",
        "Warning : this is not easy! A rough sketch of what you have to do."
      ]
    },
    {
      "cell_type": "markdown",
      "metadata": {
        "id": "ZH0MpBQpxXtc"
      },
      "source": [
        "![method](https://miro.medium.com/v2/resize:fit:1400/format:webp/1*whVcezzOdfMxDd5UZUG3tw.png)"
      ]
    },
    {
      "cell_type": "markdown",
      "metadata": {
        "id": "pQr4AaZG0-gC"
      },
      "source": [
        "First (the hard part), you'll have to manipulate your input to be in this modified shape, such that, it can be 'strided over' easily. Hint : [np.lib.stride_tricks.as_strided](https://numpy.org/doc/stable/reference/generated/numpy.lib.stride_tricks.as_strided.html)!"
      ]
    },
    {
      "cell_type": "code",
      "execution_count": null,
      "metadata": {
        "id": "W0zw5Yu8u4EX"
      },
      "outputs": [],
      "source": [
        "def stride_input(x, w, conv_param):\n",
        "    \"\"\"\n",
        "    Input manipulation before the vectorized Convolution.\n",
        "\n",
        "    The input consists of N data points, each with C channels, height H and\n",
        "    width W. We convolve each input with F different filters, where each filter\n",
        "    spans all C channels and has height HH and width HH.\n",
        "\n",
        "    Input:\n",
        "    - x: Input data of shape (N, C, H, W)\n",
        "    - w: Filter weights of shape (F, C, HH, WW)\n",
        "    - conv_param: A dictionary with the following keys:\n",
        "      - 'stride': The number of pixels between adjacent receptive fields in the\n",
        "        horizontal and vertical directions.\n",
        "\n",
        "    Returns:\n",
        "    - out: Output data, of shape (N, F, H', W', HH, WW) where H' and W' are given by\n",
        "      H' = 1 + (H - HH) / stride\n",
        "      W' = 1 + (W - WW) / stride\n",
        "    \"\"\"\n",
        "    out = None\n",
        "    ###########################################################################\n",
        "    # TODO: Implement the manipulation as in the diagram.                     #\n",
        "    # The main code is ~ 4 lines only!                                        #\n",
        "    ###########################################################################\n",
        "\n",
        "    ###########################################################################\n",
        "    #                             END OF YOUR CODE                            #\n",
        "    ###########################################################################\n",
        "    return out"
      ]
    },
    {
      "cell_type": "code",
      "execution_count": null,
      "metadata": {
        "id": "YcZ_1BEw6KRZ"
      },
      "outputs": [],
      "source": [
        "function_checker('stride_input', input, out2)"
      ]
    },
    {
      "cell_type": "markdown",
      "metadata": {
        "id": "bcPkM8Li4W9N"
      },
      "source": [
        "Now (the easy part), you have to 'efficiently' sum over the new dimesnions/windows that you have just created. Hint : [np.einsum](https://numpy.org/doc/stable/reference/generated/numpy.einsum.html).\n"
      ]
    },
    {
      "cell_type": "code",
      "execution_count": null,
      "metadata": {
        "id": "dhbqvDKJ4uVa"
      },
      "outputs": [],
      "source": [
        "def conv_forward_vectorized(x, w, b, conv_param):\n",
        "    \"\"\"\n",
        "    A vectorized implementation of the forward pass for a convolutional layer.\n",
        "\n",
        "    The input consists of N data points, each with C channels, height H and\n",
        "    width W. We convolve each input with F different filters, where each filter\n",
        "    spans all C channels and has height HH and width HH.\n",
        "\n",
        "    Input:\n",
        "    - x: Input data of shape (N, C, H, W)\n",
        "    - w: Filter weights of shape (F, C, HH, WW)\n",
        "    - b: Biases, of shape (F,)\n",
        "    - conv_param: A dictionary with the following keys:\n",
        "      - 'stride': The number of pixels between adjacent receptive fields in the\n",
        "        horizontal and vertical directions.\n",
        "\n",
        "    Returns:\n",
        "    - out: Output data, of shape (N, F, H', W') where H' and W' are given by\n",
        "      H' = 1 + (H - HH) / stride\n",
        "      W' = 1 + (W - WW) / stride\n",
        "    \"\"\"\n",
        "    out = None\n",
        "    ###########################################################################\n",
        "    # TODO: Implement the convolutional forward pass. (main code ~ 2 lines)   #\n",
        "    # Hint: might have to use np.newaxis as well.                             #\n",
        "    ###########################################################################\n",
        "\n",
        "    ###########################################################################\n",
        "    #                             END OF YOUR CODE                            #\n",
        "    ###########################################################################\n",
        "    return out"
      ]
    },
    {
      "cell_type": "code",
      "execution_count": null,
      "metadata": {
        "id": "UN6hlnNF6LBw"
      },
      "outputs": [],
      "source": [
        "start = time.time()\n",
        "conv_forward_vectorized(x, w, b, conv_param)\n",
        "print(f\"Vectorized implementation took : {time.time() - start}s\")\n",
        "function_checker('conv_forward_vectorized', input, out3)"
      ]
    },
    {
      "cell_type": "markdown",
      "metadata": {
        "id": "TjkPXKp29Saw"
      },
      "source": [
        "Ideally you should observe a huge speedup! (can be as high as 85x)"
      ]
    },
    {
      "cell_type": "markdown",
      "metadata": {},
      "source": [
        "## Thank you. <br>\n",
        "This small tutorial was made by [Karan Bania](https://karannb.github.io).<br>"
      ]
    }
  ],
  "metadata": {
    "colab": {
      "provenance": []
    },
    "kernelspec": {
      "display_name": "Python 3",
      "name": "python3"
    },
    "language_info": {
      "name": "python"
    }
  },
  "nbformat": 4,
  "nbformat_minor": 0
}
